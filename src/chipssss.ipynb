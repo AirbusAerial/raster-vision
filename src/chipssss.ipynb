{
 "cells": [
  {
   "cell_type": "code",
   "execution_count": 123,
   "metadata": {},
   "outputs": [],
   "source": [
    "from rastervision.raster_sources.geotiff_files import GeoTiffFiles\n",
    "from rastervision.core.raster_transformer import RasterTransformer\n",
    "import numpy as np\n",
    "import imageio\n",
    "import json\n",
    "from rastervision.utils.misc import *"
   ]
  },
  {
   "cell_type": "code",
   "execution_count": 3,
   "metadata": {},
   "outputs": [
    {
     "name": "stdout",
     "output_type": "stream",
     "text": [
      "2013-0611-OkMoreEast_ortho_1_1.tif  2013-0611-OkMoreEast_ortho_3_1.tif\r\n",
      "2013-0611-OkMoreEast_ortho_1_2.tif  2013-0611-OkMoreEast_ortho_3_2.tif\r\n",
      "2013-0611-OkMoreEast_ortho_1_3.tif  2013-0611-OkMoreEast_ortho_3_3.tif\r\n",
      "2013-0611-OkMoreEast_ortho_1_4.tif  2013-0611-OkMoreEast_ortho_3_4.tif\r\n",
      "2013-0611-OkMoreEast_ortho_1_5.tif  2013-0611-OkMoreEast_ortho_3_5.tif\r\n",
      "2013-0611-OkMoreEast_ortho_2_1.tif  2013-0611-OkMoreEast_ortho_4_1.tif\r\n",
      "2013-0611-OkMoreEast_ortho_2_2.tif  2013-0611-OkMoreEast_ortho_4_2.tif\r\n",
      "2013-0611-OkMoreEast_ortho_2_3.tif  2013-0611-OkMoreEast_ortho_4_3.tif\r\n",
      "2013-0611-OkMoreEast_ortho_2_4.tif  2013-0611-OkMoreEast_ortho_4_4.tif\r\n",
      "2013-0611-OkMoreEast_ortho_2_5.tif  2013-0611-OkMoreEast_ortho_4_5.tif\r\n"
     ]
    }
   ],
   "source": [
    "!ls /opt/raw-data/\n"
   ]
  },
  {
   "cell_type": "code",
   "execution_count": 21,
   "metadata": {},
   "outputs": [
    {
     "name": "stdout",
     "output_type": "stream",
     "text": [
      "Loading GeoTiffFFiles...\n",
      "Downloading and building VRT...\n"
     ]
    }
   ],
   "source": [
    "class O():\n",
    "    def __init__(self):\n",
    "        self.channel_order = [0, 1, 2]\n",
    "rt = RasterTransformer(O())\n",
    "rs = GeoTiffFiles(rt, [\"/opt/raw-data/2013-0611-OkMoreEast_ortho_1_5.tif\"])"
   ]
  },
  {
   "cell_type": "code",
   "execution_count": 22,
   "metadata": {},
   "outputs": [],
   "source": [
    "    def get_train_windows():\n",
    "        extent = rs.get_extent()\n",
    "        chip_size = 200\n",
    "        stride = chip_size\n",
    "        windows = []\n",
    "        for window in extent.get_windows(chip_size, stride):\n",
    "            chip = rs.get_chip(window)\n",
    "            if np.sum(chip.ravel()) > 0:\n",
    "                windows.append(window)\n",
    "        return windows"
   ]
  },
  {
   "cell_type": "code",
   "execution_count": 25,
   "metadata": {},
   "outputs": [],
   "source": [
    "windows = get_train_windows()"
   ]
  },
  {
   "cell_type": "code",
   "execution_count": 26,
   "metadata": {},
   "outputs": [
    {
     "data": {
      "text/plain": [
       "786"
      ]
     },
     "execution_count": 26,
     "metadata": {},
     "output_type": "execute_result"
    }
   ],
   "source": [
    "len(windows)"
   ]
  },
  {
   "cell_type": "code",
   "execution_count": 28,
   "metadata": {},
   "outputs": [
    {
     "data": {
      "text/plain": [
       "[ 4000.   800.  4200.  1000.]"
      ]
     },
     "execution_count": 28,
     "metadata": {},
     "output_type": "execute_result"
    }
   ],
   "source": [
    "windows[400]\n"
   ]
  },
  {
   "cell_type": "code",
   "execution_count": 30,
   "metadata": {},
   "outputs": [],
   "source": [
    "chip = rs._get_chip(windows[400])"
   ]
  },
  {
   "cell_type": "code",
   "execution_count": 32,
   "metadata": {},
   "outputs": [],
   "source": [
    "c = np.transpose(\n",
    "        rs.image_dataset.read(window=windows[400].rasterio_format()), axes=[1, 2, 0])"
   ]
  },
  {
   "cell_type": "code",
   "execution_count": 33,
   "metadata": {},
   "outputs": [
    {
     "data": {
      "text/plain": [
       "array([[[ 538,  934,  937, 6910],\n",
       "        [ 592,  937,  988, 6516],\n",
       "        [ 538,  848,  892, 5604],\n",
       "        ..., \n",
       "        [ 324,  614,  638, 5358],\n",
       "        [ 374,  674,  668, 5578],\n",
       "        [ 423,  734,  703, 5851]],\n",
       "\n",
       "       [[ 570,  938,  969, 6771],\n",
       "        [ 602,  935,  999, 6525],\n",
       "        [ 547,  853,  904, 5628],\n",
       "        ..., \n",
       "        [ 330,  627,  653, 5398],\n",
       "        [ 400,  717,  709, 5727],\n",
       "        [ 453,  788,  766, 6005]],\n",
       "\n",
       "       [[ 584,  938,  983, 6660],\n",
       "        [ 617,  951, 1021, 6601],\n",
       "        [ 552,  853,  912, 5658],\n",
       "        ..., \n",
       "        [ 363,  689,  714, 5470],\n",
       "        [ 437,  786,  794, 5810],\n",
       "        [ 499,  865,  871, 6057]],\n",
       "\n",
       "       ..., \n",
       "       [[ 555,  871,  963, 5102],\n",
       "        [ 553,  862,  943, 5140],\n",
       "        [ 549,  851,  917, 5185],\n",
       "        ..., \n",
       "        [2121, 2195, 2479, 3108],\n",
       "        [2133, 2224, 2532, 3192],\n",
       "        [2159, 2254, 2575, 3234]],\n",
       "\n",
       "       [[ 552,  869,  964, 5079],\n",
       "        [ 546,  855,  939, 5082],\n",
       "        [ 540,  841,  909, 5103],\n",
       "        ..., \n",
       "        [2258, 2300, 2554, 3122],\n",
       "        [2291, 2364, 2662, 3296],\n",
       "        [2308, 2388, 2703, 3338]],\n",
       "\n",
       "       [[ 545,  862,  963, 5024],\n",
       "        [ 544,  856,  945, 5064],\n",
       "        [ 545,  851,  923, 5146],\n",
       "        ..., \n",
       "        [2387, 2354, 2513, 2886],\n",
       "        [2389, 2392, 2599, 3036],\n",
       "        [2399, 2415, 2649, 3107]]], dtype=uint16)"
      ]
     },
     "execution_count": 33,
     "metadata": {},
     "output_type": "execute_result"
    }
   ],
   "source": [
    "c"
   ]
  },
  {
   "cell_type": "code",
   "execution_count": 34,
   "metadata": {},
   "outputs": [],
   "source": [
    "    info = np.iinfo(c.dtype)\n",
    "    cs = c.astype(np.float64) / info.max\n",
    "    cs = 255 * cs\n",
    "    cs = cs.astype(np.uint8)\n"
   ]
  },
  {
   "cell_type": "code",
   "execution_count": 38,
   "metadata": {},
   "outputs": [],
   "source": [
    "save_img(cs, \"/opt/rvroot/test.png\")\n"
   ]
  },
  {
   "cell_type": "code",
   "execution_count": 40,
   "metadata": {},
   "outputs": [
    {
     "data": {
      "text/plain": [
       "(200, 200, 4)"
      ]
     },
     "execution_count": 40,
     "metadata": {},
     "output_type": "execute_result"
    }
   ],
   "source": [
    "c.shape"
   ]
  },
  {
   "cell_type": "code",
   "execution_count": 41,
   "metadata": {},
   "outputs": [],
   "source": [
    "mb = rs.image_dataset.read(window=windows[400].rasterio_format())"
   ]
  },
  {
   "cell_type": "code",
   "execution_count": 106,
   "metadata": {},
   "outputs": [
    {
     "name": "stdout",
     "output_type": "stream",
     "text": [
      "100_2500\n",
      "333_2500\n",
      "337_2500\n"
     ]
    }
   ],
   "source": [
    "def color_correct(band):\n",
    "    min_value, max_value = (np.min(band[np.nonzero(band)]), 2500)#band.max())\n",
    "    print(\"{}_{}\".format(min_value, max_value))\n",
    "    return (np.maximum(((np.minimum(band, max_value) - min_value) / (max_value - min_value)), 0) * 255).astype(np.uint8)\n",
    "\n",
    "r = color_correct(mb[0])\n",
    "g = color_correct(mb[1])\n",
    "b = color_correct(mb[2])\n"
   ]
  },
  {
   "cell_type": "code",
   "execution_count": 107,
   "metadata": {},
   "outputs": [],
   "source": [
    "c2 = np.transpose(np.array([r, g, b]), axes=[1, 2, 0])"
   ]
  },
  {
   "cell_type": "code",
   "execution_count": 108,
   "metadata": {},
   "outputs": [],
   "source": [
    "c2 = c2.astype(np.uint8)"
   ]
  },
  {
   "cell_type": "code",
   "execution_count": 109,
   "metadata": {},
   "outputs": [],
   "source": [
    "save_img(c2, \"/opt/rvroot/test5.png\")"
   ]
  },
  {
   "cell_type": "code",
   "execution_count": 77,
   "metadata": {},
   "outputs": [
    {
     "data": {
      "text/plain": [
       "<matplotlib.text.Text at 0x7fc4c09bf208>"
      ]
     },
     "execution_count": 77,
     "metadata": {},
     "output_type": "execute_result"
    },
    {
     "data": {
      "image/png": "[encoded data removed]",
      "text/plain": [
       "<matplotlib.figure.Figure at 0x7fc4da1ac5c0>"
      ]
     },
     "metadata": {},
     "output_type": "display_data"
    }
   ],
   "source": [
    "import matplotlib.pyplot as plt\n",
    "\n",
    "plt.hist(mb[0], bins='auto')  # arguments are passed to np.histogram\n",
    "plt.title(\"Histogram with 'auto' bins\")\n",
    "\n"
   ]
  },
  {
   "cell_type": "code",
   "execution_count": 78,
   "metadata": {},
   "outputs": [],
   "source": [
    "plt.show()"
   ]
  },
  {
   "cell_type": "code",
   "execution_count": 113,
   "metadata": {},
   "outputs": [],
   "source": [
    "!ls /opt/rvroot/rv-output/datasets/airbus-2013-0611-OkMoreEast_ortho/models/resnet50/output/debug/model"
   ]
  },
  {
   "cell_type": "code",
   "execution_count": 114,
   "metadata": {},
   "outputs": [
    {
     "data": {
      "text/plain": [
       "dtype('uint16')"
      ]
     },
     "execution_count": 114,
     "metadata": {},
     "output_type": "execute_result"
    }
   ],
   "source": [
    "c.dtype"
   ]
  },
  {
   "cell_type": "code",
   "execution_count": 116,
   "metadata": {},
   "outputs": [
    {
     "data": {
      "text/plain": [
       "65535"
      ]
     },
     "execution_count": 116,
     "metadata": {},
     "output_type": "execute_result"
    }
   ],
   "source": [
    "np.iinfo(c.dtype).max"
   ]
  },
  {
   "cell_type": "code",
   "execution_count": 117,
   "metadata": {},
   "outputs": [],
   "source": [
    "import os\n"
   ]
  },
  {
   "cell_type": "code",
   "execution_count": 119,
   "metadata": {},
   "outputs": [],
   "source": [
    "import imageio"
   ]
  },
  {
   "cell_type": "code",
   "execution_count": 120,
   "metadata": {},
   "outputs": [
    {
     "name": "stderr",
     "output_type": "stream",
     "text": [
      "/opt/conda/lib/python3.5/site-packages/imageio/plugins/_tifffile.py:7285: UserWarning: module 'imageio.plugins._tifffile' has no attribute 'decode_packbits'\n",
      "  Functionality might be degraded or be slow.\n",
      "\n",
      "  warnings.warn(\"%s%s\" % (e, warn))\n",
      "/opt/conda/lib/python3.5/site-packages/imageio/plugins/_tifffile.py:7285: UserWarning: module 'imageio.plugins._tifffile' has no attribute 'decode_lzw'\n",
      "  Functionality might be degraded or be slow.\n",
      "\n",
      "  warnings.warn(\"%s%s\" % (e, warn))\n",
      "/opt/conda/lib/python3.5/site-packages/imageio/plugins/_tifffile.py:7285: UserWarning: module 'imageio.plugins._tifffile' has no attribute 'unpack_ints'\n",
      "  Functionality might be degraded or be slow.\n",
      "\n",
      "  warnings.warn(\"%s%s\" % (e, warn))\n",
      "/opt/conda/lib/python3.5/site-packages/imageio/plugins/_tifffile.py:7285: UserWarning: module 'imageio.plugins._tifffile' has no attribute 'reverse_bitorder'\n",
      "  Functionality might be degraded or be slow.\n",
      "\n",
      "  warnings.warn(\"%s%s\" % (e, warn))\n"
     ]
    }
   ],
   "source": [
    "i = imageio.imread(\"/opt/rvroot/rv-output/datasets/airbus-2013-0611-OkMoreEast_ortho/output/training/damage/1570.tiff\")"
   ]
  },
  {
   "cell_type": "code",
   "execution_count": 121,
   "metadata": {},
   "outputs": [
    {
     "data": {
      "text/plain": [
       "(100, 100, 3)"
      ]
     },
     "execution_count": 121,
     "metadata": {},
     "output_type": "execute_result"
    }
   ],
   "source": [
    "i.shape"
   ]
  },
  {
   "cell_type": "code",
   "execution_count": 124,
   "metadata": {},
   "outputs": [],
   "source": [
    "js = json.loads(open('/opt/rvroot/2013-0611-OkMoreEast_ortho.geojson').read())"
   ]
  },
  {
   "cell_type": "code",
   "execution_count": 126,
   "metadata": {},
   "outputs": [],
   "source": [
    "ff = list(filter(lambda x: x['properties']['class_id'] == 1, js['features']))"
   ]
  },
  {
   "cell_type": "code",
   "execution_count": 133,
   "metadata": {},
   "outputs": [
    {
     "data": {
      "text/plain": [
       "379174"
      ]
     },
     "execution_count": 133,
     "metadata": {},
     "output_type": "execute_result"
    }
   ],
   "source": [
    "njs = {\"type\":\"FeatureCollection\",\"features\": ff }\n",
    "open(\"/opt/rvroot/2013-0611-OkMoreEast_ortho-od.geojson\", 'w').write(json.dumps(njs))"
   ]
  },
  {
   "cell_type": "code",
   "execution_count": 135,
   "metadata": {},
   "outputs": [
    {
     "data": {
      "text/plain": [
       "531"
      ]
     },
     "execution_count": 135,
     "metadata": {},
     "output_type": "execute_result"
    }
   ],
   "source": [
    "len(ff)"
   ]
  },
  {
   "cell_type": "code",
   "execution_count": 131,
   "metadata": {},
   "outputs": [],
   "source": [
    "import rasterio\n",
    "src = rasterio.open('/opt/raw-data/2013-0611-OkMoreEast_ortho_1_5.tif')"
   ]
  },
  {
   "cell_type": "code",
   "execution_count": 136,
   "metadata": {},
   "outputs": [
    {
     "data": {
      "text/plain": [
       "(6500, 6126)"
      ]
     },
     "execution_count": 136,
     "metadata": {},
     "output_type": "execute_result"
    }
   ],
   "source": [
    "src.shape"
   ]
  },
  {
   "cell_type": "code",
   "execution_count": 137,
   "metadata": {},
   "outputs": [],
   "source": [
    "import pyproj"
   ]
  },
  {
   "cell_type": "code",
   "execution_count": 139,
   "metadata": {},
   "outputs": [],
   "source": [
    "web_proj = pyproj.Proj(init='epsg:4326')"
   ]
  },
  {
   "cell_type": "code",
   "execution_count": 141,
   "metadata": {},
   "outputs": [],
   "source": [
    "image_proj = pyproj.Proj(init=src.crs['init'])"
   ]
  },
  {
   "cell_type": "code",
   "execution_count": 142,
   "metadata": {},
   "outputs": [
    {
     "data": {
      "text/plain": [
       "'epsg:32614'"
      ]
     },
     "execution_count": 142,
     "metadata": {},
     "output_type": "execute_result"
    }
   ],
   "source": [
    "src.crs['init']"
   ]
  },
  {
   "cell_type": "code",
   "execution_count": null,
   "metadata": {},
   "outputs": [],
   "source": []
  }
 ],
 "metadata": {
  "kernelspec": {
   "display_name": "Python 3",
   "language": "python",
   "name": "python3"
  },
  "language_info": {
   "codemirror_mode": {
    "name": "ipython",
    "version": 3
   },
   "file_extension": ".py",
   "mimetype": "text/x-python",
   "name": "python",
   "nbconvert_exporter": "python",
   "pygments_lexer": "ipython3",
   "version": "3.5.1"
  }
 },
 "nbformat": 4,
 "nbformat_minor": 2
}
